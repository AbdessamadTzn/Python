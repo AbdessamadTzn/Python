{
 "cells": [
  {
   "cell_type": "markdown",
   "id": "1619b73a-f29d-4b55-bcb7-b33c2b2a0b73",
   "metadata": {},
   "source": [
    "![Image](a7.png \"KATSKY Studio\")"
   ]
  },
  {
   "cell_type": "markdown",
   "id": "cd7f5bbe-2a27-4353-903e-9857915a539b",
   "metadata": {},
   "source": [
    "# **PYTHON**\n",
    "## **Data Types**"
   ]
  },
  {
   "cell_type": "markdown",
   "id": "b2bc3479-dfaf-46f8-9717-424065192d31",
   "metadata": {},
   "source": [
    "In this notebook, we will get started with python's data types :\n",
    "* **Lists**\n",
    "* **Tuples**\n",
    "* **Strings**\n",
    "* **Sets**\n",
    "* **Dictionaries**\n",
    "  And we will finish up with 5 exercices to practice what we've learnt."
   ]
  },
  {
   "cell_type": "markdown",
   "id": "20daf2b8-3b23-4ad0-9310-d34f4e248745",
   "metadata": {},
   "source": [
    "### **Lists**\n",
    "- Ordered sequence of items\n",
    "- Store many types\n",
    "- Most used\n",
    "- 0 based index\n",
    "  #### *Syntax*\n",
    "  list=[3, 5, \"Abdessamad\", 6.9, 2+9j]"
   ]
  },
  {
   "cell_type": "code",
   "execution_count": 3,
   "id": "d6212218-361d-48c3-ac9a-fcfd2cad0f12",
   "metadata": {},
   "outputs": [
    {
     "name": "stdout",
     "output_type": "stream",
     "text": [
      "<class 'list'>\n",
      "Bob\n"
     ]
    }
   ],
   "source": [
    "#Example\n",
    "list = [23, \"Bob\", 7.9]\n",
    "#Type of list?\n",
    "print(type(list)) #Google python type function\n",
    "#Print Bob\n",
    "print(list[1]) #Google 0 based index!"
   ]
  },
  {
   "cell_type": "markdown",
   "id": "1f791af6-b77c-415b-a278-41a3c67c24c8",
   "metadata": {},
   "source": [
    "##### **Range of items**"
   ]
  },
  {
   "cell_type": "code",
   "execution_count": 4,
   "id": "66a5dd25-b543-46d8-9d1a-fc6c14cd83e9",
   "metadata": {},
   "outputs": [
    {
     "name": "stdout",
     "output_type": "stream",
     "text": [
      "[45, 7]\n",
      "['Python', (8+7j), 'Apple', 8]\n"
     ]
    }
   ],
   "source": [
    "#Declare another list\n",
    "mix = [45, 7, 'Python', 8+7j, \"Apple\", 8]\n",
    "#We want items in range 2\n",
    "print(mix[0:2]) #The last index is bounded\n",
    "#By default it start from 0, but if we want all items starting from 2\n",
    "print(mix[2:])"
   ]
  },
  {
   "cell_type": "markdown",
   "id": "03c42c45-6b15-4b6d-9ab2-13bffdca0257",
   "metadata": {},
   "source": [
    "##### **Mutable**"
   ]
  },
  {
   "cell_type": "code",
   "execution_count": 5,
   "id": "70ebf7fa-4548-40d2-81e4-000a9d3b2735",
   "metadata": {},
   "outputs": [
    {
     "name": "stdout",
     "output_type": "stream",
     "text": [
      "7\n",
      "Sara\n"
     ]
    }
   ],
   "source": [
    "print(mix[1])\n",
    "mix[1]=\"Sara\" #You can change index value\n",
    "print(mix[1])"
   ]
  },
  {
   "cell_type": "markdown",
   "id": "f7b01705-73aa-4b0a-9c7e-eb6db2e3b880",
   "metadata": {},
   "source": [
    "### **Tuples**"
   ]
  },
  {
   "cell_type": "markdown",
   "id": "88b55f06-9aae-4c93-9757-f92445c2ba48",
   "metadata": {},
   "source": [
    "* **Ordered sequence**\n",
    "* **Immutable**\n",
    "* **Protect Data**\n",
    "* **Faster than Lists**\n",
    "* **0 based index**\n",
    "*Syntax*\n",
    "tuple = (10, \"app\", 2.8)"
   ]
  },
  {
   "cell_type": "code",
   "execution_count": 7,
   "id": "98aac391-0130-461c-80c0-c98933a4432f",
   "metadata": {},
   "outputs": [
    {
     "name": "stdout",
     "output_type": "stream",
     "text": [
      "7.8\n",
      "(67,)\n"
     ]
    }
   ],
   "source": [
    "tuple = (67, \"immutable\", 7.8)\n",
    "#Get item by index\n",
    "print(tuple[2])\n",
    "#Range\n",
    "print(tuple[:1])"
   ]
  },
  {
   "cell_type": "markdown",
   "id": "163b22ed-310c-426c-9303-b81c84c33a88",
   "metadata": {},
   "source": [
    "##### **Immutable**"
   ]
  },
  {
   "cell_type": "code",
   "execution_count": 8,
   "id": "a5d47e65-1a44-4b2c-99a4-8933a9afe8cb",
   "metadata": {},
   "outputs": [
    {
     "ename": "TypeError",
     "evalue": "'tuple' object does not support item assignment",
     "output_type": "error",
     "traceback": [
      "\u001b[1;31m---------------------------------------------------------------------------\u001b[0m",
      "\u001b[1;31mTypeError\u001b[0m                                 Traceback (most recent call last)",
      "Cell \u001b[1;32mIn[8], line 2\u001b[0m\n\u001b[0;32m      1\u001b[0m \u001b[38;5;66;03m#If we try now to change an item's value, we'll get an error\u001b[39;00m\n\u001b[1;32m----> 2\u001b[0m \u001b[38;5;28;43mtuple\u001b[39;49m\u001b[43m[\u001b[49m\u001b[38;5;241;43m1\u001b[39;49m\u001b[43m]\u001b[49m\u001b[38;5;241m=\u001b[39m\u001b[38;5;241m8\u001b[39m\n\u001b[0;32m      3\u001b[0m \u001b[38;5;28mprint\u001b[39m(\u001b[38;5;28mtuple\u001b[39m[\u001b[38;5;241m1\u001b[39m]) \u001b[38;5;66;03m#Google why tuples are faster than lists?\u001b[39;00m\n",
      "\u001b[1;31mTypeError\u001b[0m: 'tuple' object does not support item assignment"
     ]
    }
   ],
   "source": [
    "#If we try now to change an item's value, we'll get an error\n",
    "tuple[1]=8\n",
    "print(tuple[1]) #Google why tuples are faster than lists?"
   ]
  },
  {
   "cell_type": "markdown",
   "id": "31969827-45d5-4cb3-9cd6-249c5b888ef3",
   "metadata": {},
   "source": [
    "#### **String**"
   ]
  },
  {
   "cell_type": "markdown",
   "id": "98420bf8-4133-49ec-8612-365bdfe554f1",
   "metadata": {},
   "source": [
    "**One line => ' ' or \" \"**\n",
    "\n",
    "**Multiple lines => ''' '''**"
   ]
  },
  {
   "cell_type": "code",
   "execution_count": 9,
   "id": "84f048e6-0fe0-4624-ab84-d9003a7f835e",
   "metadata": {},
   "outputs": [
    {
     "name": "stdout",
     "output_type": "stream",
     "text": [
      "Hi, how's going\n",
      "Hi,\n",
      "I'm\n",
      "Learning\n"
     ]
    }
   ],
   "source": [
    "str = \"Hi, how's going\" #One line\n",
    "str1 = '''Hi,\n",
    "I'm\n",
    "Learning''' #Multiple lines\n",
    "print(str)\n",
    "print(str1)"
   ]
  },
  {
   "cell_type": "markdown",
   "id": "f4be507c-1f9f-413e-b48d-b1c2f335602f",
   "metadata": {},
   "source": [
    "##### **Strings are immutable too!!!**"
   ]
  },
  {
   "cell_type": "markdown",
   "id": "0d0df4b6-9497-4931-8fdb-a7e97aba971b",
   "metadata": {},
   "source": [
    "#### **Sets**\n",
    "* **Unordered**\n",
    "* **Eliminates duplicates**\n",
    "* **We get different arrange of sets every time we use it**\n",
    "* **Becaus of this last one, sets don't support index, so you can't get a set item by its index**\n",
    "* **Set items are unchangeable, but you can remove items and add new items**\n",
    "*Syntax*\n",
    "set = {12, 7, 89, \"banana\"}"
   ]
  },
  {
   "cell_type": "markdown",
   "id": "f1c33323-6927-461f-b286-1d27b1eaa26e",
   "metadata": {},
   "source": [
    "#### **Dictionaries**\n",
    "* **Unoredered Collection**\n",
    "* **Used when we have a huge amount of data, it's optimized for retrieving data**\n",
    "* **Each item, has a *key* and a *value*, and they can be any type of data**\n",
    "\n",
    "##### *Syntax*\n",
    "d = {name : \"Bob\", age : 43}"
   ]
  },
  {
   "cell_type": "code",
   "execution_count": 13,
   "id": "ccbdbc55-dd3d-45c6-a02d-ecdc9cd60ae8",
   "metadata": {},
   "outputs": [
    {
     "name": "stdout",
     "output_type": "stream",
     "text": [
      "{'Model': 'Mercedes', 'Color': 'Black', 'Price': 114000}\n",
      "First item with int key\n",
      "Second item with string key\n"
     ]
    }
   ],
   "source": [
    "d = {\"Model\":\"Mercedes\", \"Color\":\"Black\", \"Price\":114000}\n",
    "print(d)\n",
    "#Key can be any type of data\n",
    "d1 = {1 : \"First item with int key\", \"second\" : \"Second item with string key\"}\n",
    "print(d1[1])\n",
    "print(d1[\"second\"])"
   ]
  },
  {
   "cell_type": "markdown",
   "id": "95ce4cd3-28ca-4644-940d-970ae3483fe5",
   "metadata": {},
   "source": [
    "## Practice\n",
    "### Exercice 1:\n",
    "* Write a Python program that calculates the sum of all even numbers from 1 to 100.\n",
    "### Exercice 2:\n",
    "* Create a list of your favorite fruits. Then, write code to print out the first and last fruit in the list.\n",
    "### Exercice 3:\n",
    "* Given a string, write a program that counts the number of vowels (a, e, i, o, u) in the string. Ignore case sensitivity.\n",
    "### Exercice 4:\n",
    "* Create two sets, one representing students who passed an exam (e.g., {'Alice', 'Bob', 'Charlie'}) and another representing students who passed a project (e.g., {'Charlie', 'David', 'Eve'}). Write Python code to find the students who both passed the exam and the project.\n",
    "### Exercice 5:\n",
    "* Create a dictionary that represents a simple inventory of products and their prices (e.g., {'apple': 0.5, 'banana': 0.25, 'orange': 0.75}). Write a program that takes a user's input for a product and quantity and calculates the total cost.\n",
    "## You can follow this link to get some help and guide for solutions!\n",
    "[Guide](https://swamp-citrine-015.notion.site/Data-Types-fcdfc36721d34e7eb9a0f4d32cc1f4f4)\n",
    "\n",
    "\n",
    "\n",
    "\n",
    "\n"
   ]
  },
  {
   "cell_type": "markdown",
   "id": "29d9b76c-1ceb-4bcb-90f2-408d3013713e",
   "metadata": {},
   "source": [
    "# **Author**\n",
    "### **TOUZANI Abdessamad**\n",
    "### *KEEP IT REAL*"
   ]
  },
  {
   "cell_type": "code",
   "execution_count": null,
   "id": "5d9869e6-ca07-4c84-8ac9-860aaf98f7a6",
   "metadata": {},
   "outputs": [],
   "source": []
  }
 ],
 "metadata": {
  "kernelspec": {
   "display_name": "Python 3 (ipykernel)",
   "language": "python",
   "name": "python3"
  },
  "language_info": {
   "codemirror_mode": {
    "name": "ipython",
    "version": 3
   },
   "file_extension": ".py",
   "mimetype": "text/x-python",
   "name": "python",
   "nbconvert_exporter": "python",
   "pygments_lexer": "ipython3",
   "version": "3.11.5"
  }
 },
 "nbformat": 4,
 "nbformat_minor": 5
}
