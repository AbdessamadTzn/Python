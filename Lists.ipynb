{
 "cells": [
  {
   "cell_type": "markdown",
   "id": "14801030-8619-4abd-a74f-95be3a9464a6",
   "metadata": {},
   "source": [
    "# **Lists in Python**\n",
    "## **Author : TOUZNAI Abdessamad**"
   ]
  },
  {
   "cell_type": "markdown",
   "id": "87d03766-4615-4eb1-9919-6408bbcc91bf",
   "metadata": {},
   "source": [
    "We can create a list in python by placing all the elements/items betwenn square brackets separated by a comma \",\".\n",
    "A lis in python has certain propreties:\n",
    "- Store multiple data types\n",
    "- Ordered (we can have access to items by index)\n",
    "- Changeable (We can change declarations of items/elements)"
   ]
  },
  {
   "cell_type": "markdown",
   "id": "6cf05952-1f19-4c66-96cd-1630e49821e2",
   "metadata": {},
   "source": [
    "#### **Create List:**"
   ]
  },
  {
   "cell_type": "code",
   "execution_count": 1,
   "id": "77c7ebb6-e0df-4054-b6ff-274e8de8478c",
   "metadata": {},
   "outputs": [
    {
     "name": "stdout",
     "output_type": "stream",
     "text": [
      "['This is a string', 2, True, 'Look different data types']\n"
     ]
    }
   ],
   "source": [
    "list = [\"This is a string\", 2, True, \"Look different data types\"]\n",
    "print(list)"
   ]
  },
  {
   "cell_type": "markdown",
   "id": "0f6643e0-92ee-41fb-bad0-66702281167d",
   "metadata": {},
   "source": [
    "#### **Access Elements:**"
   ]
  },
  {
   "cell_type": "code",
   "execution_count": 2,
   "id": "7854481a-3969-4c8a-bfd0-5c3c1edb2871",
   "metadata": {},
   "outputs": [
    {
     "name": "stdout",
     "output_type": "stream",
     "text": [
      "This is the first element in the list: This is a string\n",
      "This is the last element: Look different data types\n"
     ]
    }
   ],
   "source": [
    "#list are 0 based index\n",
    "print(\"This is the first element in the list: \"+list[0])\n",
    "print(\"This is the last element: \"+list[-1])"
   ]
  },
  {
   "cell_type": "markdown",
   "id": "ac29af13-9bb0-47bd-b045-4646973f0e64",
   "metadata": {},
   "source": [
    "#### **Length of the list**"
   ]
  },
  {
   "cell_type": "code",
   "execution_count": 3,
   "id": "abebc6e7-b994-4edf-86f6-07729c22b627",
   "metadata": {},
   "outputs": [
    {
     "ename": "TypeError",
     "evalue": "can only concatenate str (not \"int\") to str",
     "output_type": "error",
     "traceback": [
      "\u001b[1;31m---------------------------------------------------------------------------\u001b[0m",
      "\u001b[1;31mTypeError\u001b[0m                                 Traceback (most recent call last)",
      "Cell \u001b[1;32mIn[3], line 1\u001b[0m\n\u001b[1;32m----> 1\u001b[0m \u001b[38;5;28mprint\u001b[39m(\u001b[38;5;124;43m\"\u001b[39;49m\u001b[38;5;124;43mThe length of the list is: \u001b[39;49m\u001b[38;5;124;43m\"\u001b[39;49m\u001b[38;5;241;43m+\u001b[39;49m\u001b[38;5;28;43mlen\u001b[39;49m\u001b[43m(\u001b[49m\u001b[38;5;28;43mlist\u001b[39;49m\u001b[43m)\u001b[49m) \u001b[38;5;66;03m#output 4\u001b[39;00m\n\u001b[0;32m      2\u001b[0m \u001b[38;5;28mprint\u001b[39m(\u001b[38;5;124m\"\u001b[39m\u001b[38;5;124mThis is the last element: \u001b[39m\u001b[38;5;124m\"\u001b[39m\u001b[38;5;241m+\u001b[39m\u001b[38;5;28mlist\u001b[39m[\u001b[38;5;241m3\u001b[39m]) \u001b[38;5;66;03m#0 based index\u001b[39;00m\n",
      "\u001b[1;31mTypeError\u001b[0m: can only concatenate str (not \"int\") to str"
     ]
    }
   ],
   "source": [
    "print(\"The length of the list is: \"+len(list)) #output 4\n",
    "print(\"This is the last element: \"+list[3]) #0 based index"
   ]
  },
  {
   "cell_type": "markdown",
   "id": "69845c50-9221-420a-9be5-5a68a3355638",
   "metadata": {},
   "source": [
    "ERROR! Why? Well, when concatenating a string and a result from a function or variable, you need to convert the non-string part to a string to avoid a TypeError, then the right version is:"
   ]
  },
  {
   "cell_type": "code",
   "execution_count": 6,
   "id": "4b00c164-2be1-49a5-afd0-6a5727d90c6a",
   "metadata": {
    "scrolled": true
   },
   "outputs": [
    {
     "name": "stdout",
     "output_type": "stream",
     "text": [
      "********************\n",
      "4\n",
      "The length of the list is: 4\n",
      "********************\n",
      "This is the last element: Look different data types\n",
      "This is the last element: Look different data types\n",
      "********************\n"
     ]
    }
   ],
   "source": [
    "print(\"********************\")\n",
    "print(len(list))\n",
    "print(\"The length of the list is: \" + str(len(list)))  #output: 4\n",
    "print(\"********************\")\n",
    "#without converting because we know it's a string data type\n",
    "print(\"This is the last element: \" +list[3])  #0 based index\n",
    "#Good practice to convert \n",
    "print(\"This is the last element: \" + str(list[3]))  #0 based index\n",
    "print(\"********************\")"
   ]
  },
  {
   "cell_type": "markdown",
   "id": "5aa1521b-e967-49f3-87b2-0d5e02135d50",
   "metadata": {},
   "source": [
    "#### **Common List Methods**"
   ]
  },
  {
   "cell_type": "markdown",
   "id": "35a709ae-00b0-4b8a-beed-a15c67deb7d4",
   "metadata": {},
   "source": [
    "##### ***Append to List:***"
   ]
  },
  {
   "cell_type": "code",
   "execution_count": 7,
   "id": "779a585b-bf4c-4726-9565-5e7858bb137e",
   "metadata": {},
   "outputs": [
    {
     "name": "stdout",
     "output_type": "stream",
     "text": [
      "After appending 4: [1, 2, 3, 4]\n"
     ]
    }
   ],
   "source": [
    "list_app = [1, 2, 3]\n",
    "list_app.append(4)\n",
    "print(\"After appending 4:\", list_app)"
   ]
  },
  {
   "cell_type": "markdown",
   "id": "f1abc6fe-e020-44d6-aeb7-86d41c69e37e",
   "metadata": {},
   "source": [
    "##### ***Pop from List:***"
   ]
  },
  {
   "cell_type": "code",
   "execution_count": 8,
   "id": "74a64b17-5553-46cf-b052-da2ea87a4920",
   "metadata": {},
   "outputs": [
    {
     "name": "stdout",
     "output_type": "stream",
     "text": [
      "Popped item: 4\n",
      "After popping: [1, 2, 3]\n"
     ]
    }
   ],
   "source": [
    "list_pop = [1, 2, 3, 4]\n",
    "popped_item = list_pop.pop()\n",
    "print(\"Popped item:\", popped_item)\n",
    "print(\"After popping:\", list_pop) \n"
   ]
  },
  {
   "cell_type": "markdown",
   "id": "f5059878-8aca-498a-a2dd-2321bdf029cb",
   "metadata": {},
   "source": [
    "##### ***Extend List:***"
   ]
  },
  {
   "cell_type": "code",
   "execution_count": 9,
   "id": "8ab4a63c-988f-4b4a-accc-502d08b48ea5",
   "metadata": {},
   "outputs": [
    {
     "name": "stdout",
     "output_type": "stream",
     "text": [
      "After extending: [1, 2, 3, 4, 5, 6]\n"
     ]
    }
   ],
   "source": [
    "list1 = [1, 2, 3]\n",
    "list2 = [4, 5, 6]\n",
    "list1.extend(list2)\n",
    "print(\"After extending:\", list1)  \n"
   ]
  },
  {
   "cell_type": "markdown",
   "id": "6e788163-7b3c-45da-9ffb-7c184b665330",
   "metadata": {},
   "source": [
    "#### ***Insert into List:***"
   ]
  },
  {
   "cell_type": "code",
   "execution_count": 12,
   "id": "eb5db26d-65dd-43f9-91a9-1b08d6009bba",
   "metadata": {},
   "outputs": [
    {
     "name": "stdout",
     "output_type": "stream",
     "text": [
      "After insertion: [1, 2, 99, 3]\n"
     ]
    }
   ],
   "source": [
    "list_insert = [1, 2, 3]\n",
    "list_insert.insert(2, 99)  # Insert 99 at index 2\n",
    "print(\"After insertion:\", list_insert) \n"
   ]
  },
  {
   "cell_type": "markdown",
   "id": "4ddae087-0990-4974-aed1-ab02cba280cb",
   "metadata": {},
   "source": [
    "##### ***Remove from List:***"
   ]
  },
  {
   "cell_type": "code",
   "execution_count": 14,
   "id": "7b0c5be2-1ae1-4e8c-b36a-0c7ad41e00ac",
   "metadata": {},
   "outputs": [
    {
     "name": "stdout",
     "output_type": "stream",
     "text": [
      "After removal: [1, 3, 2, 4]\n"
     ]
    }
   ],
   "source": [
    "list_rem = [1, 2, 3, 2, 4]\n",
    "list_rem.remove(2)  # Remove the first occurrence of 2\n",
    "print(\"After removal:\", list_rem) \n"
   ]
  },
  {
   "cell_type": "markdown",
   "id": "b7878459-0111-4836-9b74-9004f25c57de",
   "metadata": {},
   "source": [
    "So that's all about basics in lists, I'll let you discover and search byyoursel, as always here is a guide to help you: \n",
    "- [Python Lists w3schools](https://www.w3schools.com/python/python_lists.asp 'Python Lists w3schools')\n",
    "- [Exercices to initiate](https://www.learnpython.org/en/Lists 'Exercices') \n",
    "## ***Keep It Real***\n",
    "## TOUZANI Abdessamad\n"
   ]
  }
 ],
 "metadata": {
  "kernelspec": {
   "display_name": "Python 3 (ipykernel)",
   "language": "python",
   "name": "python3"
  },
  "language_info": {
   "codemirror_mode": {
    "name": "ipython",
    "version": 3
   },
   "file_extension": ".py",
   "mimetype": "text/x-python",
   "name": "python",
   "nbconvert_exporter": "python",
   "pygments_lexer": "ipython3",
   "version": "3.11.5"
  }
 },
 "nbformat": 4,
 "nbformat_minor": 5
}
