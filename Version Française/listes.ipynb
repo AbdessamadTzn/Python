{
 "cells": [
  {
   "cell_type": "markdown",
   "id": "46d6b60c-b73e-4be1-a90c-2636395d6a4d",
   "metadata": {},
   "source": [
    "# **Listes en Python**\n",
    "## **Auteur : TOUZNAI Abdessamad**"
   ]
  },
  {
   "cell_type": "markdown",
   "id": "558d27d5-f62d-4710-8dba-a632a334178c",
   "metadata": {},
   "source": [
    "On peut créer une liste en Python en plaçant tous les éléments entre crochets carrés, séparés par une virgule \",\".\n",
    "Une liste en Python a certaines propriétés :\n",
    "- Peut stocker plusieurs types de données\n",
    "- Ordonnée (on peut accéder aux éléments par index)\n",
    "- Modifiable (On peut changer les déclarations des éléments)"
   ]
  },
  {
   "cell_type": "markdown",
   "id": "385d7fdf-0b7c-4f24-bfaf-e55dc5e8b7b3",
   "metadata": {},
   "source": [
    "#### **Créer une liste :**"
   ]
  },
  {
   "cell_type": "code",
   "execution_count": 1,
   "id": "0c65d831-457f-4c75-a09e-736fb726cef6",
   "metadata": {},
   "outputs": [
    {
     "name": "stdout",
     "output_type": "stream",
     "text": [
      "[\"C'est une chaîne de caractères\", 2, True, 'Différents types de données']\n"
     ]
    }
   ],
   "source": [
    "liste = [\"C'est une chaîne de caractères\", 2, True, \"Différents types de données\"]\n",
    "print(liste)"
   ]
  },
  {
   "cell_type": "markdown",
   "id": "2cdb3025-94c6-482e-bf08-3246b0f26161",
   "metadata": {},
   "source": [
    "#### **Access Elements:**"
   ]
  },
  {
   "cell_type": "code",
   "execution_count": 3,
   "id": "e82c7678-1b6f-4157-9a10-16c76b5a5e56",
   "metadata": {},
   "outputs": [
    {
     "name": "stdout",
     "output_type": "stream",
     "text": [
      "Ceci est le premier élément de la liste : C'est une chaîne de caractères\n",
      "Ceci est le dernier élément : Différents types de données\n"
     ]
    }
   ],
   "source": [
    "# Les listes ont un index à partir de 0\n",
    "print(\"Ceci est le premier élément de la liste : \" + liste[0])\n",
    "print(\"Ceci est le dernier élément : \" + liste[-1])"
   ]
  },
  {
   "cell_type": "markdown",
   "id": "6b4ed985-4538-4c21-9020-a7164f3c5394",
   "metadata": {},
   "source": [
    "#### **Length of the list**"
   ]
  },
  {
   "cell_type": "code",
   "execution_count": 6,
   "id": "2dd891b1-05cf-4dda-8b0b-0c4763595cd7",
   "metadata": {},
   "outputs": [
    {
     "ename": "TypeError",
     "evalue": "can only concatenate str (not \"int\") to str",
     "output_type": "error",
     "traceback": [
      "\u001b[1;31m---------------------------------------------------------------------------\u001b[0m",
      "\u001b[1;31mTypeError\u001b[0m                                 Traceback (most recent call last)",
      "Cell \u001b[1;32mIn[6], line 1\u001b[0m\n\u001b[1;32m----> 1\u001b[0m \u001b[38;5;28mprint\u001b[39m(\u001b[38;5;124;43m\"\u001b[39;49m\u001b[38;5;124;43mLa longueur de la liste est : \u001b[39;49m\u001b[38;5;124;43m\"\u001b[39;49m\u001b[43m \u001b[49m\u001b[38;5;241;43m+\u001b[39;49m\u001b[43m \u001b[49m\u001b[38;5;28;43mlen\u001b[39;49m\u001b[43m(\u001b[49m\u001b[43mliste\u001b[49m\u001b[43m)\u001b[49m)  \u001b[38;5;66;03m# sortie 4\u001b[39;00m\n\u001b[0;32m      2\u001b[0m \u001b[38;5;28mprint\u001b[39m(\u001b[38;5;124m\"\u001b[39m\u001b[38;5;124mCeci est le dernier élément : \u001b[39m\u001b[38;5;124m\"\u001b[39m \u001b[38;5;241m+\u001b[39m liste[\u001b[38;5;241m3\u001b[39m])  \u001b[38;5;66;03m# Index à partir de 0\u001b[39;00m\n",
      "\u001b[1;31mTypeError\u001b[0m: can only concatenate str (not \"int\") to str"
     ]
    }
   ],
   "source": [
    "print(\"La longueur de la liste est : \" + len(liste))  # sortie 4\n",
    "print(\"Ceci est le dernier élément : \" + liste[3])  # Index à partir de 0"
   ]
  },
  {
   "cell_type": "markdown",
   "id": "84653b73-df91-4ed1-89a7-1e65af33d449",
   "metadata": {},
   "source": [
    "ERREUR ! Pourquoi ? Eh bien, lors de la concaténation d'une chaîne et d'un résultat provenant d'une fonction ou d'une variable, vous devez convertir la partie non chaîne en chaîne pour éviter une TypeError, donc la version correcte est :"
   ]
  },
  {
   "cell_type": "code",
   "execution_count": 7,
   "id": "7d4f480e-13ec-4e9f-8572-92ebbcac63c2",
   "metadata": {},
   "outputs": [
    {
     "name": "stdout",
     "output_type": "stream",
     "text": [
      "********************\n",
      "4\n",
      "La longueur de la liste est : 4\n",
      "********************\n",
      "Ceci est le dernier élément : Différents types de données\n",
      "Ceci est le dernier élément : Différents types de données\n",
      "********************\n"
     ]
    }
   ],
   "source": [
    "print(\"********************\")\n",
    "print(len(liste))\n",
    "print(\"La longueur de la liste est : \" + str(len(liste)))  # sortie : 4\n",
    "print(\"********************\")\n",
    "# sans conversion car nous savons que c'est une chaîne de caractères\n",
    "print(\"Ceci est le dernier élément : \" + liste[3])  # Index à partir de 0\n",
    "# Bonne pratique de convertir\n",
    "print(\"Ceci est le dernier élément : \" + str(liste[3]))  # Index à partir de 0\n",
    "print(\"********************\")"
   ]
  },
  {
   "cell_type": "markdown",
   "id": "665845bc-8be8-48ab-ae46-7e2b839eb694",
   "metadata": {},
   "source": [
    "#### **Méthodes courantes des listes**"
   ]
  },
  {
   "cell_type": "markdown",
   "id": "7b03fb1c-ff03-4a51-ac59-2497ca9f1db5",
   "metadata": {},
   "source": [
    "##### ***Ajouter à la liste : (append)***\n"
   ]
  },
  {
   "cell_type": "code",
   "execution_count": 18,
   "id": "61c75d06-294d-4b37-9fdb-2eaede2ab544",
   "metadata": {},
   "outputs": [
    {
     "name": "stdout",
     "output_type": "stream",
     "text": [
      "Après l'ajout de 4 : [1, 2, 3, 4]\n"
     ]
    }
   ],
   "source": [
    "liste_ajout = [1, 2, 3]\n",
    "liste_ajout.append(4)\n",
    "print(\"Après l'ajout de 4 :\", liste_ajout)\n"
   ]
  },
  {
   "cell_type": "markdown",
   "id": "b7e84bf7-a3dc-4f17-816e-54714490cedb",
   "metadata": {},
   "source": [
    "##### ***Retirer/Extraire de la liste :(pop)***"
   ]
  },
  {
   "cell_type": "code",
   "execution_count": 17,
   "id": "e0a2945d-ae21-42ae-8294-ab7ad34a0c57",
   "metadata": {},
   "outputs": [
    {
     "name": "stdout",
     "output_type": "stream",
     "text": [
      "Élément retiré : 4\n",
      "Après la retrait : [1, 2, 3]\n"
     ]
    }
   ],
   "source": [
    "liste_suppr = [1, 2, 3, 4]\n",
    "élément_retiré = liste_suppr.pop()\n",
    "print(f\"Élément retiré : {élément_retiré}\")\n",
    "print(f\"Après la retrait : {liste_suppr}\") "
   ]
  },
  {
   "cell_type": "markdown",
   "id": "cec296bb-2bc2-4d56-a8ea-418ba581bf4d",
   "metadata": {},
   "source": [
    "##### ***Étendre la liste :(Extend)***"
   ]
  },
  {
   "cell_type": "code",
   "execution_count": 10,
   "id": "42018cb7-5484-4092-bde9-3697bcd87f6f",
   "metadata": {},
   "outputs": [
    {
     "name": "stdout",
     "output_type": "stream",
     "text": [
      "Après l'extension : [1, 2, 3, 4, 5, 6]\n"
     ]
    }
   ],
   "source": [
    "liste1 = [1, 2, 3]\n",
    "liste2 = [4, 5, 6]\n",
    "liste1.extend(liste2)\n",
    "print(\"Après l'extension :\", liste1) "
   ]
  },
  {
   "cell_type": "markdown",
   "id": "a995c1a0-aca1-4dba-89d1-58bbd004ac46",
   "metadata": {},
   "source": [
    "#### ***Insérer dans la liste :(Insert)***"
   ]
  },
  {
   "cell_type": "code",
   "execution_count": 16,
   "id": "e68ab91f-c9b3-4164-a2b8-bb263ef38b0a",
   "metadata": {},
   "outputs": [
    {
     "name": "stdout",
     "output_type": "stream",
     "text": [
      "Après l'insertion : [1, 2, 99, 3]\n"
     ]
    }
   ],
   "source": [
    "liste_insertion = [1, 2, 3]\n",
    "liste_insertion.insert(2, 99)  # Insérer 99 à l'index 2\n",
    "print(f\"Après l'insertion : {liste_insertion}\") "
   ]
  },
  {
   "cell_type": "markdown",
   "id": "d9c47cef-1c35-4bcd-aea7-874f8d3ade38",
   "metadata": {},
   "source": [
    "##### ***Supprimer de la liste :(Remove)***"
   ]
  },
  {
   "cell_type": "code",
   "execution_count": 19,
   "id": "ed1dc9bc-f23e-4a51-84ec-6500500a31cf",
   "metadata": {},
   "outputs": [
    {
     "name": "stdout",
     "output_type": "stream",
     "text": [
      "Après la suppression : [1, 3, 2, 4]\n"
     ]
    }
   ],
   "source": [
    "liste_suppr = [1, 2, 3, 2, 4]\n",
    "liste_suppr.remove(2)  # Supprimer la première occurrence de 2\n",
    "print(\"Après la suppression :\", liste_suppr) "
   ]
  },
  {
   "cell_type": "markdown",
   "id": "2bb8ce66-9432-43d1-9fe9-71ca7cdaefc1",
   "metadata": {},
   "source": [
    "Donc, c'est tout sur les bases des listes. Je vais te laisser découvrir et explorer par toi-même. Comme toujours, voici un guide pour t'aider :\n",
    "- [Python Lists w3schools](https://www.w3schools.com/python/python_lists.asp 'Python Lists w3schools')\n",
    "- [Exercices pour débuter](https://www.learnpython.org/en/Lists 'Exercices') \n",
    "## ***Keep It Reaal***\n",
    "## **[TOUZANI Abdessamad](https://www.linkedin.com/in/abdessamadtouzani/)**\n"
   ]
  }
 ],
 "metadata": {
  "kernelspec": {
   "display_name": "Python 3 (ipykernel)",
   "language": "python",
   "name": "python3"
  },
  "language_info": {
   "codemirror_mode": {
    "name": "ipython",
    "version": 3
   },
   "file_extension": ".py",
   "mimetype": "text/x-python",
   "name": "python",
   "nbconvert_exporter": "python",
   "pygments_lexer": "ipython3",
   "version": "3.11.5"
  }
 },
 "nbformat": 4,
 "nbformat_minor": 5
}
