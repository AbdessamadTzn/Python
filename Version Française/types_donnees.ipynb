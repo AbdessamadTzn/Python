{
 "cells": [
  {
   "cell_type": "markdown",
   "id": "fb788920-99cf-47d4-9955-a4e831e5e34a",
   "metadata": {},
   "source": [
    "# **Types de données en Python**\n",
    "# **[Abdessamad Touzani](https://www.linkedin.com/in/abdessamadtouzani/)**"
   ]
  },
  {
   "cell_type": "markdown",
   "id": "24b41496-66b4-41a0-bcb8-f3c560488d25",
   "metadata": {},
   "source": [
    "Dans ce notebook, nous allons commencer avec les types de données en Python :\n",
    "- **Listes**\n",
    "- **Tuples**\n",
    "- **Chaînes de caractères**\n",
    "- **Ensembles**\n",
    "- **Dictionnaires**\n",
    "\n",
    "Et nous conclurons avec 5 exercices pour pratiquer ce que nous avons appris."
   ]
  },
  {
   "cell_type": "markdown",
   "id": "bd9addb7-abd4-42ef-9bca-e5add3eff4c4",
   "metadata": {},
   "source": [
    "### **Listes**\n",
    "- Séquence ordonnée d'éléments\n",
    "- Peut stocker plusieurs types de données\n",
    "- Très utilisée\n",
    "- Indexée à partir de 0\n",
    "  #### *Syntaxe*\n",
    "  liste = [3, 5, \"Abdessamad\", 6.9, 2+9j]"
   ]
  },
  {
   "cell_type": "code",
   "execution_count": 3,
   "id": "99de7707-65e6-4cdf-95df-68905b361aa9",
   "metadata": {},
   "outputs": [
    {
     "name": "stdout",
     "output_type": "stream",
     "text": [
      "<class 'list'>\n",
      "Bob\n"
     ]
    }
   ],
   "source": [
    "# Exemple\n",
    "liste = [23, \"Bob\", 7.9]\n",
    "# Type de liste ?\n",
    "print(type(liste))  # Rechercher la fonction Python \"type\"\n",
    "# Afficher Bob\n",
    "print(liste[1])  # Attention à l'indexation à partir de 0 !"
   ]
  },
  {
   "cell_type": "markdown",
   "id": "68b52b04-941c-4e28-8ae3-f20f12d45962",
   "metadata": {},
   "source": [
    "##### **Plage d'éléments**"
   ]
  },
  {
   "cell_type": "code",
   "execution_count": 4,
   "id": "2065b4e8-e1db-4753-b3be-16a1847448fe",
   "metadata": {},
   "outputs": [
    {
     "name": "stdout",
     "output_type": "stream",
     "text": [
      "[45, 7]\n",
      "['Python', (8+7j), 'Apple', 8]\n"
     ]
    }
   ],
   "source": [
    "# Déclarer une autre liste\n",
    "mix = [45, 7, 'Python', 8+7j, \"Apple\", 8]\n",
    "# Nous voulons les éléments dans la plage 2\n",
    "print(mix[0:2])  # L'index final est borné\n",
    "# Par défaut, il commence à 0, mais si nous voulons tous les éléments à partir de 2\n",
    "print(mix[2:])"
   ]
  },
  {
   "cell_type": "markdown",
   "id": "de917029-ffe6-4746-8c40-1b1a535ca335",
   "metadata": {},
   "source": [
    "##### **Modifiable (Mutable)**"
   ]
  },
  {
   "cell_type": "code",
   "execution_count": 5,
   "id": "86545fcb-a693-4da3-8ed5-1d6580435a2e",
   "metadata": {},
   "outputs": [
    {
     "name": "stdout",
     "output_type": "stream",
     "text": [
      "7\n",
      "Sara\n"
     ]
    }
   ],
   "source": [
    "print(mix[1])\n",
    "mix[1] = \"Sara\"  # Tu peux changer la valeur de l'index\n",
    "print(mix[1])"
   ]
  },
  {
   "cell_type": "markdown",
   "id": "f88c549d-24ad-4e4c-9ad3-50fc763f2566",
   "metadata": {},
   "source": [
    "### **Tuples**"
   ]
  },
  {
   "cell_type": "markdown",
   "id": "a6291568-8f0f-46ef-b763-11530abb23b4",
   "metadata": {},
   "source": [
    "- **Séquence ordonnée**\n",
    "- **Immuable**\n",
    "- **Protège les données**\n",
    "- **Plus rapide que les listes**\n",
    "- **Indexée à partir de 0**\n",
    "- **Syntaxe**\n",
    "  ```python\n",
    "  tuple = (10, \"app\", 2.8)"
   ]
  },
  {
   "cell_type": "code",
   "execution_count": 6,
   "id": "cc28a0f3-b070-47b8-a760-a54aa656b532",
   "metadata": {},
   "outputs": [
    {
     "name": "stdout",
     "output_type": "stream",
     "text": [
      "7.8\n",
      "(67,)\n"
     ]
    }
   ],
   "source": [
    "tuple = (67, \"immutable\", 7.8)\n",
    "#Obtenir l'élément par index\n",
    "print(tuple[2])\n",
    "#Plage\n",
    "print(tuple[:1])"
   ]
  },
  {
   "cell_type": "markdown",
   "id": "66a6bbee-0fd9-41f2-911b-2ac068745e0b",
   "metadata": {},
   "source": [
    "##### **Immuable**"
   ]
  },
  {
   "cell_type": "code",
   "execution_count": 7,
   "id": "72024eef-3106-40bb-b109-ca3e31d57d2f",
   "metadata": {},
   "outputs": [
    {
     "ename": "TypeError",
     "evalue": "'tuple' object does not support item assignment",
     "output_type": "error",
     "traceback": [
      "\u001b[1;31m---------------------------------------------------------------------------\u001b[0m",
      "\u001b[1;31mTypeError\u001b[0m                                 Traceback (most recent call last)",
      "Cell \u001b[1;32mIn[7], line 2\u001b[0m\n\u001b[0;32m      1\u001b[0m \u001b[38;5;66;03m# Si nous essayons maintenant de changer la valeur d'un élément, nous obtiendrons une erreur\u001b[39;00m\n\u001b[1;32m----> 2\u001b[0m \u001b[38;5;28;43mtuple\u001b[39;49m\u001b[43m[\u001b[49m\u001b[38;5;241;43m1\u001b[39;49m\u001b[43m]\u001b[49m \u001b[38;5;241m=\u001b[39m \u001b[38;5;241m8\u001b[39m\n\u001b[0;32m      3\u001b[0m \u001b[38;5;28mprint\u001b[39m(\u001b[38;5;28mtuple\u001b[39m[\u001b[38;5;241m1\u001b[39m])  \u001b[38;5;66;03m# Recherche pourquoi les tuples sont plus rapides que les listes\u001b[39;00m\n",
      "\u001b[1;31mTypeError\u001b[0m: 'tuple' object does not support item assignment"
     ]
    }
   ],
   "source": [
    "# Si nous essayons maintenant de changer la valeur d'un élément, nous obtiendrons une erreur\n",
    "tuple[1] = 8\n",
    "print(tuple[1])  # Recherche pourquoi les tuples sont plus rapides que les listes"
   ]
  },
  {
   "cell_type": "markdown",
   "id": "7a1704fb-2213-4a8e-852e-c1fabeac15d0",
   "metadata": {},
   "source": [
    "#### **Chaînes de caractères (Strings)**"
   ]
  },
  {
   "cell_type": "markdown",
   "id": "78d54fc2-cbf9-4e8e-9d4d-411041b18bdf",
   "metadata": {},
   "source": [
    "**Sur une ligne => ' ' ou \" \"**\n",
    "\n",
    "**Sur plusieurs lignes => ''' '''**"
   ]
  },
  {
   "cell_type": "code",
   "execution_count": 8,
   "id": "86b1acb9-fa79-4cde-acee-747c139fc4d3",
   "metadata": {},
   "outputs": [
    {
     "name": "stdout",
     "output_type": "stream",
     "text": [
      "Hi, how's going\n",
      "Hi,\n",
      "I'm\n",
      "Learning\n"
     ]
    }
   ],
   "source": [
    "str = \"Hi, how's going\"  # Sur une ligne\n",
    "str1 = '''Hi,\n",
    "I'm\n",
    "Learning'''  # Sur plusieurs lignes\n",
    "print(str)\n",
    "print(str1)"
   ]
  },
  {
   "cell_type": "markdown",
   "id": "699b64b1-5d74-4550-8ebb-1c360d2c9a9b",
   "metadata": {},
   "source": [
    "##### **Les chaînes de caractères sont également immuables !**"
   ]
  },
  {
   "cell_type": "markdown",
   "id": "bc8b03e9-40aa-43d1-85d3-dbc21d6df61f",
   "metadata": {},
   "source": [
    "#### **Ensembles (Sets)**\n",
    "- **Non ordonnés**\n",
    "- **Élimine les doublons**\n",
    "- **L'agencement des ensembles peut varier à chaque utilisation**\n",
    "- **En raison de cette dernière caractéristique, les ensembles ne supportent pas l'index, vous ne pouvez donc pas obtenir un élément d'un ensemble par son index**\n",
    "- **Les éléments de l'ensemble sont non modifiables, mais vous pouvez supprimer des éléments et en ajouter de nouveaux**\n",
    "- **Syntaxe**\n",
    "  ```python\n",
    "  ensemble = {12, 7, 89, \"banane\"}\n"
   ]
  },
  {
   "cell_type": "markdown",
   "id": "543125b6-967d-4b4c-8bc5-f9c24828fb23",
   "metadata": {},
   "source": [
    "#### **Dictionnaires**\n",
    "- **Collection non ordonnée**\n",
    "- **Utilisé lorsque nous avons une grande quantité de données, il est optimisé pour la récupération de données**\n",
    "- **Chaque élément a une *clé* et une *valeur*, et elles peuvent être de n'importe quel type de données**\n",
    "\n",
    "##### *Syntaxe*\n",
    "d = {nom : \"Bob\", age : 43}"
   ]
  },
  {
   "cell_type": "code",
   "execution_count": 10,
   "id": "0a44c7a4-8bce-49f4-9cc3-1ef59efc02c0",
   "metadata": {},
   "outputs": [
    {
     "name": "stdout",
     "output_type": "stream",
     "text": [
      "{'Modèle': 'Mercedes', 'Couleur': 'Noir', 'Prix': 114000}\n",
      "Premier élément avec une clé entière\n",
      "Deuxième élément avec une clé de type chaîne de caractères \n"
     ]
    }
   ],
   "source": [
    "d = {\"Modèle\":\"Mercedes\", \"Couleur\":\"Noir\", \"Prix\":114000}\n",
    "print(d)\n",
    "# La clé peut être de n'importe quel type de données\n",
    "d1 = {1 : \"Premier élément avec une clé entière\", \"deuxième\" : \"Deuxième élément avec une clé de type chaîne de caractères \"}\n",
    "print(d1[1])\n",
    "print(d1[\"deuxième\"])"
   ]
  },
  {
   "cell_type": "markdown",
   "id": "7d757174-9ac3-4218-b55c-0cacba6b63bf",
   "metadata": {},
   "source": [
    "## Pratique\n",
    "### Exercice 1:\n",
    "* Écrivez un programme Python qui calcule la somme de tous les nombres pairs de 1 à 100.\n",
    "### Exercice 2:\n",
    "* Créez une liste de vos fruits préférés. Ensuite, écrivez du code pour afficher le premier et le dernier fruit de la liste.\n",
    "### Exercice 3:\n",
    "* Étant donné une chaîne, écrivez un programme qui compte le nombre de voyelles (a, e, i, o, u) dans la chaîne. Ignorez la sensibilité à la casse.\n",
    "### Exercice 4:\n",
    "* Créez deux ensembles, l'un représentant les étudiants qui ont réussi un examen (par exemple, {'Alice', 'Bob', 'Charlie'}) et l'autre représentant les étudiants qui ont réussi un projet (par exemple, {'Charlie', 'David', 'Eve'}). Écrivez du code Python pour trouver les étudiants qui ont réussi à la fois l'examen et le projet.\n",
    "### Exercice 5:\n",
    "* Créez un dictionnaire représentant un inventaire simple de produits et de leurs prix (par exemple, {'pomme': 0.5, 'banane': 0.25, 'orange': 0.75}). Écrivez un programme qui prend en compte la saisie de l'utilisateur pour un produit et une quantité, puis calcule le coût total."
   ]
  },
  {
   "cell_type": "markdown",
   "id": "660a342e-fe04-4bf7-a4de-4d6b45069bda",
   "metadata": {},
   "source": [
    "# **Auteur**\n",
    "### **[Abdessamad Touzani](https://www.linkedin.com/in/abdessamadtouzani/)**\n",
    "### *KEEP IT REAL*\n"
   ]
  }
 ],
 "metadata": {
  "kernelspec": {
   "display_name": "Python 3 (ipykernel)",
   "language": "python",
   "name": "python3"
  },
  "language_info": {
   "codemirror_mode": {
    "name": "ipython",
    "version": 3
   },
   "file_extension": ".py",
   "mimetype": "text/x-python",
   "name": "python",
   "nbconvert_exporter": "python",
   "pygments_lexer": "ipython3",
   "version": "3.11.5"
  }
 },
 "nbformat": 4,
 "nbformat_minor": 5
}
